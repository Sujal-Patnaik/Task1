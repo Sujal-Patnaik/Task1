{
  "nbformat": 4,
  "nbformat_minor": 0,
  "metadata": {
    "colab": {
      "provenance": [],
      "include_colab_link": true
    },
    "kernelspec": {
      "name": "python3",
      "display_name": "Python 3"
    },
    "language_info": {
      "name": "python"
    }
  },
  "cells": [
    {
      "cell_type": "markdown",
      "metadata": {
        "id": "view-in-github",
        "colab_type": "text"
      },
      "source": [
        "<a href=\"https://colab.research.google.com/github/Sujal-Patnaik/Task1/blob/main/MLT2.ipynb\" target=\"_parent\"><img src=\"https://colab.research.google.com/assets/colab-badge.svg\" alt=\"Open In Colab\"/></a>"
      ]
    },
    {
      "cell_type": "code",
      "source": [
        "!pip install -q langgraph langchain langchain-google-genai google-generativeai"
      ],
      "metadata": {
        "colab": {
          "base_uri": "https://localhost:8080/"
        },
        "id": "eso3BGAN1FHf",
        "outputId": "0fe74e91-4f83-45b8-d842-75f60876aecc"
      },
      "execution_count": 1,
      "outputs": [
        {
          "output_type": "stream",
          "name": "stdout",
          "text": [
            "\u001b[2K     \u001b[90m━━━━━━━━━━━━━━━━━━━━━━━━━━━━━━━━━━━━━━━━\u001b[0m \u001b[32m43.7/43.7 kB\u001b[0m \u001b[31m1.6 MB/s\u001b[0m eta \u001b[36m0:00:00\u001b[0m\n",
            "\u001b[2K   \u001b[90m━━━━━━━━━━━━━━━━━━━━━━━━━━━━━━━━━━━━━━━━\u001b[0m \u001b[32m154.9/154.9 kB\u001b[0m \u001b[31m2.7 MB/s\u001b[0m eta \u001b[36m0:00:00\u001b[0m\n",
            "\u001b[2K   \u001b[90m━━━━━━━━━━━━━━━━━━━━━━━━━━━━━━━━━━━━━━━━\u001b[0m \u001b[32m42.0/42.0 kB\u001b[0m \u001b[31m1.5 MB/s\u001b[0m eta \u001b[36m0:00:00\u001b[0m\n",
            "\u001b[2K   \u001b[90m━━━━━━━━━━━━━━━━━━━━━━━━━━━━━━━━━━━━━━━━\u001b[0m \u001b[32m44.2/44.2 kB\u001b[0m \u001b[31m2.5 MB/s\u001b[0m eta \u001b[36m0:00:00\u001b[0m\n",
            "\u001b[2K   \u001b[90m━━━━━━━━━━━━━━━━━━━━━━━━━━━━━━━━━━━━━━━━\u001b[0m \u001b[32m50.0/50.0 kB\u001b[0m \u001b[31m2.7 MB/s\u001b[0m eta \u001b[36m0:00:00\u001b[0m\n",
            "\u001b[2K   \u001b[90m━━━━━━━━━━━━━━━━━━━━━━━━━━━━━━━━━━━━━━━━\u001b[0m \u001b[32m216.5/216.5 kB\u001b[0m \u001b[31m9.3 MB/s\u001b[0m eta \u001b[36m0:00:00\u001b[0m\n",
            "\u001b[?25h"
          ]
        }
      ]
    },
    {
      "cell_type": "code",
      "source": [
        "import os\n",
        "from getpass import getpass\n",
        "os.environ[\"GOOGLE_API_KEY\"] = getpass(\"🔐 Enter your Google API Key: \")"
      ],
      "metadata": {
        "colab": {
          "base_uri": "https://localhost:8080/"
        },
        "id": "FndgfPby1u7o",
        "outputId": "61f56385-8748-4107-f91a-3bead5f93b8a"
      },
      "execution_count": 2,
      "outputs": [
        {
          "name": "stdout",
          "output_type": "stream",
          "text": [
            "🔐 Enter your Google API Key: ··········\n"
          ]
        }
      ]
    },
    {
      "cell_type": "code",
      "source": [
        "from langchain_google_genai import ChatGoogleGenerativeAI\n",
        "\n",
        "llm = ChatGoogleGenerativeAI(\n",
        "    model=\"gemini-1.5-flash\",\n",
        "    temperature=0.3\n",
        ")\n"
      ],
      "metadata": {
        "id": "RT479C6m2d55"
      },
      "execution_count": 3,
      "outputs": []
    },
    {
      "cell_type": "code",
      "source": [
        "from langgraph.graph import StateGraph, END\n",
        "from langchain_core.runnables import RunnableLambda\n",
        "from typing import TypedDict\n",
        "from langchain_core.tools import tool\n",
        "\n",
        "class GraphState(TypedDict):\n",
        "    input : str\n",
        "    output : str\n",
        "\n",
        "@tool\n",
        "def calculator_tool(expression: str) -> str:\n",
        "    \"\"\"Evaluate a basic arithmetic expression like 2+3 or (4*5)-2.\"\"\"\n",
        "    try:\n",
        "        allowed_chars = \"1234567890*+/-() \"\n",
        "        if all(ch in allowed_chars for ch in expression):\n",
        "            expression = expression.replace(\" \", \"\")\n",
        "            return f\"The value of the expression is {eval(expression)}\"\n",
        "        else:\n",
        "            return llm.invoke(expression).content\n",
        "    except Exception as e:\n",
        "        return f\"The error is: {e}\"\n",
        "\n",
        "\n",
        "def chatbot_node(state: GraphState) -> GraphState:\n",
        "  user_input = state[\"input\"]\n",
        "  if any(operator in user_input for operator in \"+-/*\"):\n",
        "    state[\"output\"] = state[\"output\"] + calculator_tool(user_input)\n",
        "  else:\n",
        "    state[\"output\"] = state[\"output\"] + llm.invoke(user_input).content\n",
        "  return state\n",
        "\n",
        "graph = StateGraph(GraphState)\n",
        "graph.add_node(\"chatbot\", RunnableLambda(chatbot_node))\n",
        "graph.set_entry_point(\"chatbot\")\n",
        "graph.set_finish_point(\"chatbot\")\n",
        "\n",
        "executable_graph = graph.compile()\n",
        "\n"
      ],
      "metadata": {
        "id": "7E8nJWO55XfK"
      },
      "execution_count": 4,
      "outputs": []
    },
    {
      "cell_type": "code",
      "source": [
        "output = executable_graph.invoke({\"input\": \"What is 4 * (3 + 2)?\",\"output\":\"\"})\n",
        "print(output[\"output\"])\n"
      ],
      "metadata": {
        "colab": {
          "base_uri": "https://localhost:8080/"
        },
        "id": "pPFPQYqOTf-J",
        "outputId": "0793b1c5-3445-4e8d-b616-ce7b1d075875"
      },
      "execution_count": 5,
      "outputs": [
        {
          "output_type": "stream",
          "name": "stderr",
          "text": [
            "<ipython-input-4-a5a2ba8dbb81>:27: LangChainDeprecationWarning: The method `BaseTool.__call__` was deprecated in langchain-core 0.1.47 and will be removed in 1.0. Use :meth:`~invoke` instead.\n",
            "  state[\"output\"] = state[\"output\"] + calculator_tool(user_input)\n"
          ]
        },
        {
          "output_type": "stream",
          "name": "stdout",
          "text": [
            "Following the order of operations (PEMDAS/BODMAS), we first solve the parentheses:\n",
            "\n",
            "3 + 2 = 5\n",
            "\n",
            "Then we multiply:\n",
            "\n",
            "4 * 5 = 20\n",
            "\n",
            "So the answer is $\\boxed{20}$\n"
          ]
        }
      ]
    },
    {
      "cell_type": "code",
      "source": [
        "output = executable_graph.invoke({\"input\": \"4*(3+2)\",\"output\":\"\"})\n",
        "print(output[\"output\"])"
      ],
      "metadata": {
        "colab": {
          "base_uri": "https://localhost:8080/"
        },
        "id": "c21mz2qpT2p-",
        "outputId": "5dd864ee-562d-4c6e-902a-900d609463ad"
      },
      "execution_count": 6,
      "outputs": [
        {
          "output_type": "stream",
          "name": "stdout",
          "text": [
            "The value of the expression is 20\n"
          ]
        }
      ]
    },
    {
      "cell_type": "code",
      "source": [
        "output = executable_graph.invoke({\"input\": \"4  *( 3+  2)\",\"output\":\"\"})\n",
        "print(output[\"output\"])"
      ],
      "metadata": {
        "colab": {
          "base_uri": "https://localhost:8080/"
        },
        "id": "LzzN935BbOwa",
        "outputId": "8e200285-bf78-48eb-ab13-8b7e8f5514b5"
      },
      "execution_count": 7,
      "outputs": [
        {
          "output_type": "stream",
          "name": "stdout",
          "text": [
            "The value of the expression is 20\n"
          ]
        }
      ]
    },
    {
      "cell_type": "code",
      "source": [
        "output = executable_graph.invoke({\"input\": \"*8  +9\",\"output\":\"\"})\n",
        "print(output[\"output\"])"
      ],
      "metadata": {
        "colab": {
          "base_uri": "https://localhost:8080/"
        },
        "id": "DW2UBp9K4w0T",
        "outputId": "2afe1c77-b4ef-4b90-e137-1ea71e4e37ab"
      },
      "execution_count": 8,
      "outputs": [
        {
          "output_type": "stream",
          "name": "stdout",
          "text": [
            "The error is: invalid syntax (<string>, line 1)\n"
          ]
        }
      ]
    },
    {
      "cell_type": "code",
      "source": [
        "output = executable_graph.invoke({\"input\": \" 5/0 + 2\",\"output\":\"\"})\n",
        "print(output[\"output\"])"
      ],
      "metadata": {
        "colab": {
          "base_uri": "https://localhost:8080/"
        },
        "id": "wFIoaiO54-Zq",
        "outputId": "2b48e6bd-429a-4217-f68e-27e578c4496e"
      },
      "execution_count": 9,
      "outputs": [
        {
          "output_type": "stream",
          "name": "stdout",
          "text": [
            "The error is: division by zero\n"
          ]
        }
      ]
    },
    {
      "cell_type": "code",
      "source": [
        "output = executable_graph.invoke({\"input\": \"8    + 9**2\",\"output\":\"\"})\n",
        "print(output[\"output\"])"
      ],
      "metadata": {
        "colab": {
          "base_uri": "https://localhost:8080/"
        },
        "id": "3jweLvZk5DG5",
        "outputId": "c2dfd3c2-0e87-45c9-8a35-023d993795ac"
      },
      "execution_count": 10,
      "outputs": [
        {
          "output_type": "stream",
          "name": "stdout",
          "text": [
            "The value of the expression is 89\n"
          ]
        }
      ]
    },
    {
      "cell_type": "code",
      "source": [
        "output = executable_graph.invoke({\"input\": \"I want the value of eight squared\",\"output\":\"\"})\n",
        "print(output[\"output\"])"
      ],
      "metadata": {
        "colab": {
          "base_uri": "https://localhost:8080/"
        },
        "id": "J5srg9Au5XSv",
        "outputId": "df7c5c67-0e89-4a3c-d64b-bcb496e9b4f8"
      },
      "execution_count": 11,
      "outputs": [
        {
          "output_type": "stream",
          "name": "stdout",
          "text": [
            "Eight squared (8²) is 64.\n"
          ]
        }
      ]
    },
    {
      "cell_type": "code",
      "source": [
        "output = executable_graph.invoke({\"input\": \"what is the value of 2*(90)*4\",\"output\":\"\"})\n",
        "print(output[\"output\"])"
      ],
      "metadata": {
        "colab": {
          "base_uri": "https://localhost:8080/"
        },
        "id": "jeMttjyw5fhV",
        "outputId": "e5272b4b-3593-4358-8f9d-f15e84d63900"
      },
      "execution_count": 12,
      "outputs": [
        {
          "output_type": "stream",
          "name": "stdout",
          "text": [
            "2 * 90 * 4 = 180 * 4 = 720\n"
          ]
        }
      ]
    },
    {
      "cell_type": "code",
      "source": [
        "from IPython.display import Image, display\n",
        "display(Image(executable_graph.get_graph().draw_mermaid_png()))"
      ],
      "metadata": {
        "colab": {
          "base_uri": "https://localhost:8080/",
          "height": 251
        },
        "id": "9B-O1mJgcQQd",
        "outputId": "d120a772-965f-43a6-ec20-06df058b2210"
      },
      "execution_count": 13,
      "outputs": [
        {
          "output_type": "display_data",
          "data": {
            "image/png": "[encoded data removed]",
            "text/plain": [
              "<IPython.core.display.Image object>"
            ]
          },
          "metadata": {}
        }
      ]
    },
    {
      "cell_type": "code",
      "source": [
        "!pip install spacy"
      ],
      "metadata": {
        "colab": {
          "base_uri": "https://localhost:8080/"
        },
        "id": "e1mQDeObdLgQ",
        "outputId": "f0b1ae23-d875-4229-fe53-1c6cc643dda8"
      },
      "execution_count": 14,
      "outputs": [
        {
          "output_type": "stream",
          "name": "stdout",
          "text": [
            "Requirement already satisfied: spacy in /usr/local/lib/python3.11/dist-packages (3.8.5)\n",
            "Requirement already satisfied: spacy-legacy<3.1.0,>=3.0.11 in /usr/local/lib/python3.11/dist-packages (from spacy) (3.0.12)\n",
            "Requirement already satisfied: spacy-loggers<2.0.0,>=1.0.0 in /usr/local/lib/python3.11/dist-packages (from spacy) (1.0.5)\n",
            "Requirement already satisfied: murmurhash<1.1.0,>=0.28.0 in /usr/local/lib/python3.11/dist-packages (from spacy) (1.0.12)\n",
            "Requirement already satisfied: cymem<2.1.0,>=2.0.2 in /usr/local/lib/python3.11/dist-packages (from spacy) (2.0.11)\n",
            "Requirement already satisfied: preshed<3.1.0,>=3.0.2 in /usr/local/lib/python3.11/dist-packages (from spacy) (3.0.9)\n",
            "Requirement already satisfied: thinc<8.4.0,>=8.3.4 in /usr/local/lib/python3.11/dist-packages (from spacy) (8.3.6)\n",
            "Requirement already satisfied: wasabi<1.2.0,>=0.9.1 in /usr/local/lib/python3.11/dist-packages (from spacy) (1.1.3)\n",
            "Requirement already satisfied: srsly<3.0.0,>=2.4.3 in /usr/local/lib/python3.11/dist-packages (from spacy) (2.5.1)\n",
            "Requirement already satisfied: catalogue<2.1.0,>=2.0.6 in /usr/local/lib/python3.11/dist-packages (from spacy) (2.0.10)\n",
            "Requirement already satisfied: weasel<0.5.0,>=0.1.0 in /usr/local/lib/python3.11/dist-packages (from spacy) (0.4.1)\n",
            "Requirement already satisfied: typer<1.0.0,>=0.3.0 in /usr/local/lib/python3.11/dist-packages (from spacy) (0.15.3)\n",
            "Requirement already satisfied: tqdm<5.0.0,>=4.38.0 in /usr/local/lib/python3.11/dist-packages (from spacy) (4.67.1)\n",
            "Requirement already satisfied: numpy>=1.19.0 in /usr/local/lib/python3.11/dist-packages (from spacy) (2.0.2)\n",
            "Requirement already satisfied: requests<3.0.0,>=2.13.0 in /usr/local/lib/python3.11/dist-packages (from spacy) (2.32.3)\n",
            "Requirement already satisfied: pydantic!=1.8,!=1.8.1,<3.0.0,>=1.7.4 in /usr/local/lib/python3.11/dist-packages (from spacy) (2.11.4)\n",
            "Requirement already satisfied: jinja2 in /usr/local/lib/python3.11/dist-packages (from spacy) (3.1.6)\n",
            "Requirement already satisfied: setuptools in /usr/local/lib/python3.11/dist-packages (from spacy) (75.2.0)\n",
            "Requirement already satisfied: packaging>=20.0 in /usr/local/lib/python3.11/dist-packages (from spacy) (24.2)\n",
            "Requirement already satisfied: langcodes<4.0.0,>=3.2.0 in /usr/local/lib/python3.11/dist-packages (from spacy) (3.5.0)\n",
            "Requirement already satisfied: language-data>=1.2 in /usr/local/lib/python3.11/dist-packages (from langcodes<4.0.0,>=3.2.0->spacy) (1.3.0)\n",
            "Requirement already satisfied: annotated-types>=0.6.0 in /usr/local/lib/python3.11/dist-packages (from pydantic!=1.8,!=1.8.1,<3.0.0,>=1.7.4->spacy) (0.7.0)\n",
            "Requirement already satisfied: pydantic-core==2.33.2 in /usr/local/lib/python3.11/dist-packages (from pydantic!=1.8,!=1.8.1,<3.0.0,>=1.7.4->spacy) (2.33.2)\n",
            "Requirement already satisfied: typing-extensions>=4.12.2 in /usr/local/lib/python3.11/dist-packages (from pydantic!=1.8,!=1.8.1,<3.0.0,>=1.7.4->spacy) (4.13.2)\n",
            "Requirement already satisfied: typing-inspection>=0.4.0 in /usr/local/lib/python3.11/dist-packages (from pydantic!=1.8,!=1.8.1,<3.0.0,>=1.7.4->spacy) (0.4.0)\n",
            "Requirement already satisfied: charset-normalizer<4,>=2 in /usr/local/lib/python3.11/dist-packages (from requests<3.0.0,>=2.13.0->spacy) (3.4.2)\n",
            "Requirement already satisfied: idna<4,>=2.5 in /usr/local/lib/python3.11/dist-packages (from requests<3.0.0,>=2.13.0->spacy) (3.10)\n",
            "Requirement already satisfied: urllib3<3,>=1.21.1 in /usr/local/lib/python3.11/dist-packages (from requests<3.0.0,>=2.13.0->spacy) (2.4.0)\n",
            "Requirement already satisfied: certifi>=2017.4.17 in /usr/local/lib/python3.11/dist-packages (from requests<3.0.0,>=2.13.0->spacy) (2025.4.26)\n",
            "Requirement already satisfied: blis<1.4.0,>=1.3.0 in /usr/local/lib/python3.11/dist-packages (from thinc<8.4.0,>=8.3.4->spacy) (1.3.0)\n",
            "Requirement already satisfied: confection<1.0.0,>=0.0.1 in /usr/local/lib/python3.11/dist-packages (from thinc<8.4.0,>=8.3.4->spacy) (0.1.5)\n",
            "Requirement already satisfied: click>=8.0.0 in /usr/local/lib/python3.11/dist-packages (from typer<1.0.0,>=0.3.0->spacy) (8.2.0)\n",
            "Requirement already satisfied: shellingham>=1.3.0 in /usr/local/lib/python3.11/dist-packages (from typer<1.0.0,>=0.3.0->spacy) (1.5.4)\n",
            "Requirement already satisfied: rich>=10.11.0 in /usr/local/lib/python3.11/dist-packages (from typer<1.0.0,>=0.3.0->spacy) (13.9.4)\n",
            "Requirement already satisfied: cloudpathlib<1.0.0,>=0.7.0 in /usr/local/lib/python3.11/dist-packages (from weasel<0.5.0,>=0.1.0->spacy) (0.21.0)\n",
            "Requirement already satisfied: smart-open<8.0.0,>=5.2.1 in /usr/local/lib/python3.11/dist-packages (from weasel<0.5.0,>=0.1.0->spacy) (7.1.0)\n",
            "Requirement already satisfied: MarkupSafe>=2.0 in /usr/local/lib/python3.11/dist-packages (from jinja2->spacy) (3.0.2)\n",
            "Requirement already satisfied: marisa-trie>=1.1.0 in /usr/local/lib/python3.11/dist-packages (from language-data>=1.2->langcodes<4.0.0,>=3.2.0->spacy) (1.2.1)\n",
            "Requirement already satisfied: markdown-it-py>=2.2.0 in /usr/local/lib/python3.11/dist-packages (from rich>=10.11.0->typer<1.0.0,>=0.3.0->spacy) (3.0.0)\n",
            "Requirement already satisfied: pygments<3.0.0,>=2.13.0 in /usr/local/lib/python3.11/dist-packages (from rich>=10.11.0->typer<1.0.0,>=0.3.0->spacy) (2.19.1)\n",
            "Requirement already satisfied: wrapt in /usr/local/lib/python3.11/dist-packages (from smart-open<8.0.0,>=5.2.1->weasel<0.5.0,>=0.1.0->spacy) (1.17.2)\n",
            "Requirement already satisfied: mdurl~=0.1 in /usr/local/lib/python3.11/dist-packages (from markdown-it-py>=2.2.0->rich>=10.11.0->typer<1.0.0,>=0.3.0->spacy) (0.1.2)\n"
          ]
        }
      ]
    },
    {
      "cell_type": "code",
      "source": [
        "!python -m spacy download en_core_web_lg"
      ],
      "metadata": {
        "colab": {
          "base_uri": "https://localhost:8080/"
        },
        "id": "mfp1_3sakRJd",
        "outputId": "107c879d-7960-4e7a-8fc9-4d7a2940d2f2"
      },
      "execution_count": 16,
      "outputs": [
        {
          "output_type": "stream",
          "name": "stdout",
          "text": [
            "Collecting en-core-web-lg==3.8.0\n",
            "  Downloading https://github.com/explosion/spacy-models/releases/download/en_core_web_lg-3.8.0/en_core_web_lg-3.8.0-py3-none-any.whl (400.7 MB)\n",
            "\u001b[2K     \u001b[90m━━━━━━━━━━━━━━━━━━━━━━━━━━━━━━━━━━━━━━━\u001b[0m \u001b[32m400.7/400.7 MB\u001b[0m \u001b[31m3.9 MB/s\u001b[0m eta \u001b[36m0:00:00\u001b[0m\n",
            "\u001b[?25hInstalling collected packages: en-core-web-lg\n",
            "Successfully installed en-core-web-lg-3.8.0\n",
            "\u001b[38;5;2m✔ Download and installation successful\u001b[0m\n",
            "You can now load the package via spacy.load('en_core_web_lg')\n",
            "\u001b[38;5;3m⚠ Restart to reload dependencies\u001b[0m\n",
            "If you are in a Jupyter or Colab notebook, you may need to restart Python in\n",
            "order to load all the package's dependencies. You can do this by selecting the\n",
            "'Restart kernel' or 'Restart runtime' option.\n"
          ]
        }
      ]
    },
    {
      "cell_type": "code",
      "source": [
        "!python -m spacy download en_core_web_sm"
      ],
      "metadata": {
        "colab": {
          "base_uri": "https://localhost:8080/"
        },
        "id": "b0-Sg7amvrXp",
        "outputId": "de2b9948-fc7a-4d2e-95bb-2de7e3de3a1d"
      },
      "execution_count": 15,
      "outputs": [
        {
          "output_type": "stream",
          "name": "stdout",
          "text": [
            "Collecting en-core-web-sm==3.8.0\n",
            "  Downloading https://github.com/explosion/spacy-models/releases/download/en_core_web_sm-3.8.0/en_core_web_sm-3.8.0-py3-none-any.whl (12.8 MB)\n",
            "\u001b[2K     \u001b[90m━━━━━━━━━━━━━━━━━━━━━━━━━━━━━━━━━━━━━━━━\u001b[0m \u001b[32m12.8/12.8 MB\u001b[0m \u001b[31m93.9 MB/s\u001b[0m eta \u001b[36m0:00:00\u001b[0m\n",
            "\u001b[?25h\u001b[38;5;2m✔ Download and installation successful\u001b[0m\n",
            "You can now load the package via spacy.load('en_core_web_sm')\n",
            "\u001b[38;5;3m⚠ Restart to reload dependencies\u001b[0m\n",
            "If you are in a Jupyter or Colab notebook, you may need to restart Python in\n",
            "order to load all the package's dependencies. You can do this by selecting the\n",
            "'Restart kernel' or 'Restart runtime' option.\n"
          ]
        }
      ]
    },
    {
      "cell_type": "code",
      "source": [
        "from langchain_core.tools import tool\n",
        "import spacy\n",
        "\n",
        "# Load spaCy model once globally for efficiency\n",
        "nlp = spacy.load(\"en_core_web_lg\")\n",
        "\n",
        "# Ensure llm is defined (e.g., from ChatGoogleGenerativeAI or ChatOpenAI)\n",
        "# llm = ChatGoogleGenerativeAI(model=\"gemini-1.5-flash\")  # example setup\n",
        "\n",
        "@tool(\"fashion_tool\", parse_docstring=True)\n",
        "def fashion_tool(input_text: str) -> str:\n",
        "    \"\"\"\n",
        "    Provides examples of trending clothes based on a location mentioned in the input.\n",
        "\n",
        "    Args:\n",
        "        input_text: A user query mentioning a place or location.\n",
        "\n",
        "    Returns:\n",
        "        A list of trending fashion suggestions relevant to the location.\n",
        "    \"\"\"\n",
        "    try:\n",
        "        doc = nlp(input_text)\n",
        "        for ent in doc.ents:\n",
        "            if ent.label_ == \"GPE\":\n",
        "                return llm.invoke(f\"Give 4-5 examples of trending clothes in {ent.text}. Please dont give very descriptive answers\").content\n",
        "        return \"No location found in input. Please specify a city or country.\"\n",
        "    except Exception as e:\n",
        "        return f\"⚠️ Error in fashion tool: {e}\"\n"
      ],
      "metadata": {
        "id": "ltIte3z3kwzG"
      },
      "execution_count": 17,
      "outputs": []
    },
    {
      "cell_type": "code",
      "source": [
        "print(fashion_tool(\"What is trending in Bhubaneswar?\"))"
      ],
      "metadata": {
        "colab": {
          "base_uri": "https://localhost:8080/"
        },
        "id": "lu5gxaycWrcJ",
        "outputId": "6996d104-4da8-4a6f-d18e-14e444a31bb2"
      },
      "execution_count": 18,
      "outputs": [
        {
          "output_type": "stream",
          "name": "stdout",
          "text": [
            "1. Kurtis and ethnic wear\n",
            "2. Indo-western fusion outfits\n",
            "3. Comfortable cotton clothing\n",
            "4.  Lightweight sarees\n",
            "5.  Denim jackets (for layering)\n"
          ]
        }
      ]
    },
    {
      "cell_type": "code",
      "source": [
        "print(fashion_tool(\"What is trending in America?\"))"
      ],
      "metadata": {
        "colab": {
          "base_uri": "https://localhost:8080/"
        },
        "id": "K3FufAlr6GTP",
        "outputId": "9956caaf-26f7-4b3d-f5d3-9f5ef98763a9"
      },
      "execution_count": 19,
      "outputs": [
        {
          "output_type": "stream",
          "name": "stdout",
          "text": [
            "1.  Cargo pants\n",
            "2.  Y2K fashion\n",
            "3.  Oversized blazers\n",
            "4.  Corset tops\n",
            "5.  Slip dresses\n"
          ]
        }
      ]
    },
    {
      "cell_type": "code",
      "source": [
        "print(fashion_tool(\"What is trending in UK?\"))"
      ],
      "metadata": {
        "colab": {
          "base_uri": "https://localhost:8080/"
        },
        "id": "6KTMg0Dx6M5Z",
        "outputId": "794b6f41-cefe-47da-cfa1-5bcc9694fa0f"
      },
      "execution_count": 20,
      "outputs": [
        {
          "output_type": "stream",
          "name": "stdout",
          "text": [
            "1.  Cargo pants\n",
            "2.  Oversized blazers\n",
            "3.  Corset tops\n",
            "4.  Knitwear dresses\n",
            "5.  Chunky boots\n"
          ]
        }
      ]
    },
    {
      "cell_type": "code",
      "source": [
        "print(fashion_tool(\"What is trending in London?\"))"
      ],
      "metadata": {
        "colab": {
          "base_uri": "https://localhost:8080/"
        },
        "id": "oFDQ2DDS6Quo",
        "outputId": "c5d137c2-0237-4bea-9532-52bdc3b97a9f"
      },
      "execution_count": 21,
      "outputs": [
        {
          "output_type": "stream",
          "name": "stdout",
          "text": [
            "1.  Reworked vintage denim\n",
            "2.  Bold, oversized outerwear\n",
            "3.  Sustainable and ethically sourced pieces\n",
            "4.  Statement footwear (chunky boots or platform shoes)\n",
            "5.  Sleek, minimalist tailoring\n"
          ]
        }
      ]
    },
    {
      "cell_type": "code",
      "source": [
        "print(fashion_tool(\"What is trending in New York?\"))"
      ],
      "metadata": {
        "colab": {
          "base_uri": "https://localhost:8080/"
        },
        "id": "nH2cE24p6USj",
        "outputId": "adfa51dc-af35-4601-9e6e-40d343d90cfa"
      },
      "execution_count": 22,
      "outputs": [
        {
          "output_type": "stream",
          "name": "stdout",
          "text": [
            "1.  Elevated athleisure\n",
            "2.  Statement outerwear\n",
            "3.  Bold colors/prints\n",
            "4.  Vintage/reworked denim\n",
            "5.  Sleek minimalist dresses\n"
          ]
        }
      ]
    },
    {
      "cell_type": "code",
      "source": [
        "print(fashion_tool(\"What kind of clothes are famous in Tokyo\"))"
      ],
      "metadata": {
        "colab": {
          "base_uri": "https://localhost:8080/"
        },
        "id": "kiTZh1oI6aDC",
        "outputId": "1da50576-41de-4ec1-e506-002ffd32a76f"
      },
      "execution_count": 23,
      "outputs": [
        {
          "output_type": "stream",
          "name": "stdout",
          "text": [
            "1.  Deconstructed tailoring\n",
            "2.  Neo-vintage sportswear\n",
            "3.  Harajuku street style reinterpretations\n",
            "4.  Elevated basics with unique details\n",
            "5.  Bold graphic tees/sweatshirts\n"
          ]
        }
      ]
    },
    {
      "cell_type": "code",
      "source": [
        "print(fashion_tool(\"What is trending in China?\"))"
      ],
      "metadata": {
        "colab": {
          "base_uri": "https://localhost:8080/"
        },
        "id": "JxgtISt06iqb",
        "outputId": "18079d6b-0d38-40b9-a90e-edd3faef690b"
      },
      "execution_count": 24,
      "outputs": [
        {
          "output_type": "stream",
          "name": "stdout",
          "text": [
            "1.  Hanfu (traditional Chinese clothing)\n",
            "2.  Oversized streetwear\n",
            "3.  Athleisure\n",
            "4.  Minimalist styles\n",
            "5.  Vintage/retro pieces\n"
          ]
        }
      ]
    },
    {
      "cell_type": "code",
      "source": [
        "print(fashion_tool(\"what type of fashion is generally preferred by people of Australia?\"))"
      ],
      "metadata": {
        "colab": {
          "base_uri": "https://localhost:8080/"
        },
        "id": "rBFlwWw16n54",
        "outputId": "885ab264-8fce-42aa-8900-e8c907371a6c"
      },
      "execution_count": 25,
      "outputs": [
        {
          "output_type": "stream",
          "name": "stdout",
          "text": [
            "1.  Flowy maxi dresses\n",
            "2.  Wide-leg jeans\n",
            "3.  Knitwear (cardigans, jumpers)\n",
            "4.  Statement jewellery\n",
            "5.  Slip dresses\n"
          ]
        }
      ]
    },
    {
      "cell_type": "code",
      "source": [
        "import requests\n",
        "from getpass import getpass\n",
        "from datetime import datetime\n",
        "import spacy\n",
        "from langchain_core.tools import tool\n",
        "\n",
        "\n",
        "# Load spaCy model once globally (better performance)\n",
        "nlp = spacy.load(\"en_core_web_lg\")\n",
        "\n",
        "# Ideally, set your API key here or via env var (instead of getpass)\n",
        "\n",
        "API_KEY = getpass(\"🔐 Enter your OpenWeatherMap API Key: \")\n",
        "@tool(\"weather_tool\", parse_docstring=True)\n",
        "def get_weather(input_text: str , API_KEY: str) -> str:\n",
        "    \"\"\"\n",
        "    Fetch current weather info for a city mentioned in input_text.\n",
        "\n",
        "    Args:\n",
        "        input_text: A string containing a city name or query mentioning a city.\n",
        "        API_KEY: Your OpenWeatherMap API key.\n",
        "\n",
        "    Returns:\n",
        "        Weather summary string for the detected city.\n",
        "    \"\"\"\n",
        "\n",
        "    city_name = ''\n",
        "\n",
        "    doc = nlp(input_text)\n",
        "    for ent in doc.ents:\n",
        "        if ent.label_ == \"GPE\":\n",
        "            city_name = ent.text\n",
        "            break\n",
        "    else:\n",
        "        city_name = input_text  # fallback\n",
        "\n",
        "    url = f\"http://api.openweathermap.org/data/2.5/weather?q={city_name}&units=metric&appid={API_KEY}\"\n",
        "    response = requests.get(url)\n",
        "    data = response.json()\n",
        "\n",
        "    if response.status_code != 200 or \"main\" not in data:\n",
        "        return f\"⚠️ Could not fetch weather data for '{city_name}'. Error: {data.get('message', 'Unknown error')}\"\n",
        "\n",
        "    temp = data[\"main\"][\"temp\"]\n",
        "    feels_like = data[\"main\"][\"feels_like\"]\n",
        "    humidity = data[\"main\"][\"humidity\"]\n",
        "    pressure = data[\"main\"][\"pressure\"]\n",
        "    wind_speed = data[\"wind\"][\"speed\"]\n",
        "    description = data[\"weather\"][0][\"description\"].capitalize()\n",
        "    clouds = data[\"clouds\"][\"all\"]\n",
        "    visibility = data.get(\"visibility\", \"Unknown\")\n",
        "\n",
        "    sunrise = datetime.utcfromtimestamp(data[\"sys\"][\"sunrise\"]).strftime('%H:%M UTC')\n",
        "    sunset = datetime.utcfromtimestamp(data[\"sys\"][\"sunset\"]).strftime('%H:%M UTC')\n",
        "\n",
        "    return (\n",
        "        f\"🌤️ Weather in {city_name}:\\n\"\n",
        "        f\"- Description: {description}\\n\"\n",
        "        f\"- Temperature: {temp}°C (Feels like: {feels_like}°C)\\n\"\n",
        "        f\"- Humidity: {humidity}%\\n\"\n",
        "        f\"- Pressure: {pressure} hPa\\n\"\n",
        "        f\"- Wind Speed: {wind_speed} m/s\\n\"\n",
        "        f\"- Cloud Cover: {clouds}%\\n\"\n",
        "        f\"- Visibility: {visibility} meters\\n\"\n",
        "        f\"- Sunrise: {sunrise} | Sunset: {sunset}\"\n",
        "    )\n",
        "print(get_weather.invoke({\"input_text\":\"What is the weather of Delhi\",\"API_KEY\":API_KEY}))"
      ],
      "metadata": {
        "colab": {
          "base_uri": "https://localhost:8080/"
        },
        "id": "R8wiQYRAYKAX",
        "outputId": "e0e27990-95c4-445f-dec1-bbcdf07db465"
      },
      "execution_count": 26,
      "outputs": [
        {
          "output_type": "stream",
          "name": "stdout",
          "text": [
            "🔐 Enter your OpenWeatherMap API Key: ··········\n",
            "🌤️ Weather in Delhi:\n",
            "- Description: Mist\n",
            "- Temperature: 28.05°C (Feels like: 33.73°C)\n",
            "- Humidity: 89%\n",
            "- Pressure: 1003 hPa\n",
            "- Wind Speed: 2.06 m/s\n",
            "- Cloud Cover: 20%\n",
            "- Visibility: 3500 meters\n",
            "- Sunrise: 23:55 UTC | Sunset: 13:41 UTC\n"
          ]
        }
      ]
    },
    {
      "cell_type": "code",
      "source": [
        "API_KEY = getpass(\"🔐 Enter your OpenWeatherMap API Key: \")\n",
        "print(get_weather.invoke({\"input_text\":\"What is the weather of Bhubaneswar\",\"API_KEY\":API_KEY}))"
      ],
      "metadata": {
        "colab": {
          "base_uri": "https://localhost:8080/"
        },
        "id": "skL4zlfA1cfK",
        "outputId": "370c83a3-f463-4266-c869-e3009d1cb204"
      },
      "execution_count": 27,
      "outputs": [
        {
          "output_type": "stream",
          "name": "stdout",
          "text": [
            "🔐 Enter your OpenWeatherMap API Key: ··········\n",
            "🌤️ Weather in Bhubaneswar:\n",
            "- Description: Mist\n",
            "- Temperature: 27.12°C (Feels like: 31.54°C)\n",
            "- Humidity: 94%\n",
            "- Pressure: 1002 hPa\n",
            "- Wind Speed: 1.03 m/s\n",
            "- Cloud Cover: 75%\n",
            "- Visibility: 3000 meters\n",
            "- Sunrise: 23:37 UTC | Sunset: 12:50 UTC\n"
          ]
        }
      ]
    },
    {
      "cell_type": "code",
      "source": [
        "API_KEY = getpass(\"🔐 Enter your OpenWeatherMap API Key: \")\n",
        "print(get_weather.invoke({\"input_text\":\"Is it raining today in Guwahati\",\"API_KEY\":API_KEY}))"
      ],
      "metadata": {
        "colab": {
          "base_uri": "https://localhost:8080/"
        },
        "id": "jWR-uoPf65YR",
        "outputId": "f1b56023-a324-472a-f395-9c26c3a9679e"
      },
      "execution_count": 28,
      "outputs": [
        {
          "output_type": "stream",
          "name": "stdout",
          "text": [
            "🔐 Enter your OpenWeatherMap API Key: ··········\n",
            "🌤️ Weather in Guwahati:\n",
            "- Description: Broken clouds\n",
            "- Temperature: 27.95°C (Feels like: 33.42°C)\n",
            "- Humidity: 89%\n",
            "- Pressure: 1005 hPa\n",
            "- Wind Speed: 0 m/s\n",
            "- Cloud Cover: 75%\n",
            "- Visibility: 2500 meters\n",
            "- Sunrise: 23:02 UTC | Sunset: 12:38 UTC\n"
          ]
        }
      ]
    },
    {
      "cell_type": "code",
      "source": [
        "API_KEY = getpass(\"🔐 Enter your OpenWeatherMap API Key: \")\n",
        "print(get_weather.invoke({\"input_text\":\"What is the climate at London\",\"API_KEY\":API_KEY}))"
      ],
      "metadata": {
        "colab": {
          "base_uri": "https://localhost:8080/"
        },
        "id": "MNI4C1Jp7Mma",
        "outputId": "0217804a-3bbb-4f68-c844-fa97d5039728"
      },
      "execution_count": 29,
      "outputs": [
        {
          "output_type": "stream",
          "name": "stdout",
          "text": [
            "🔐 Enter your OpenWeatherMap API Key: ··········\n",
            "🌤️ Weather in London:\n",
            "- Description: Overcast clouds\n",
            "- Temperature: 16.22°C (Feels like: 15.15°C)\n",
            "- Humidity: 48%\n",
            "- Pressure: 1012 hPa\n",
            "- Wind Speed: 9.26 m/s\n",
            "- Cloud Cover: 100%\n",
            "- Visibility: 10000 meters\n",
            "- Sunrise: 03:55 UTC | Sunset: 19:59 UTC\n"
          ]
        }
      ]
    },
    {
      "cell_type": "code",
      "source": [
        "API_KEY = getpass(\"🔐 Enter your OpenWeatherMap API Key: \")\n",
        "print(get_weather.invoke({\"input_text\":\"What is the climate at Tokyo\",\"API_KEY\":API_KEY}))"
      ],
      "metadata": {
        "colab": {
          "base_uri": "https://localhost:8080/"
        },
        "id": "_-QH-Of17XoP",
        "outputId": "8a7ae8f3-94a8-4180-d572-70e66f3b6590"
      },
      "execution_count": 30,
      "outputs": [
        {
          "output_type": "stream",
          "name": "stdout",
          "text": [
            "🔐 Enter your OpenWeatherMap API Key: ··········\n",
            "🌤️ Weather in Tokyo:\n",
            "- Description: Broken clouds\n",
            "- Temperature: 18.53°C (Feels like: 17.82°C)\n",
            "- Humidity: 53%\n",
            "- Pressure: 1012 hPa\n",
            "- Wind Speed: 5.66 m/s\n",
            "- Cloud Cover: 75%\n",
            "- Visibility: 10000 meters\n",
            "- Sunrise: 19:29 UTC | Sunset: 09:47 UTC\n"
          ]
        }
      ]
    },
    {
      "cell_type": "code",
      "source": [
        "API_KEY = getpass(\"🔐 Enter your OpenWeatherMap API Key: \")\n",
        "print(get_weather.invoke({\"input_text\":\"Tell me about the temperature of New York\",\"API_KEY\":API_KEY}))"
      ],
      "metadata": {
        "colab": {
          "base_uri": "https://localhost:8080/"
        },
        "id": "VkQUUJ7G7qBx",
        "outputId": "1cb5b434-b735-46a8-9a03-803752d9dfdb"
      },
      "execution_count": 31,
      "outputs": [
        {
          "output_type": "stream",
          "name": "stdout",
          "text": [
            "🔐 Enter your OpenWeatherMap API Key: ··········\n",
            "🌤️ Weather in New York:\n",
            "- Description: Overcast clouds\n",
            "- Temperature: 19.12°C (Feels like: 18.31°C)\n",
            "- Humidity: 47%\n",
            "- Pressure: 1018 hPa\n",
            "- Wind Speed: 6.17 m/s\n",
            "- Cloud Cover: 100%\n",
            "- Visibility: 10000 meters\n",
            "- Sunrise: 09:30 UTC | Sunset: 00:15 UTC\n"
          ]
        }
      ]
    },
    {
      "cell_type": "code",
      "source": [
        "!pip install langgraph"
      ],
      "metadata": {
        "colab": {
          "base_uri": "https://localhost:8080/"
        },
        "id": "W5_EVVIPPi0p",
        "outputId": "a6a45544-5cd0-4a25-e8e3-53fe9bee047e"
      },
      "execution_count": 32,
      "outputs": [
        {
          "output_type": "stream",
          "name": "stdout",
          "text": [
            "Requirement already satisfied: langgraph in /usr/local/lib/python3.11/dist-packages (0.4.7)\n",
            "Requirement already satisfied: langchain-core>=0.1 in /usr/local/lib/python3.11/dist-packages (from langgraph) (0.3.59)\n",
            "Requirement already satisfied: langgraph-checkpoint>=2.0.26 in /usr/local/lib/python3.11/dist-packages (from langgraph) (2.0.26)\n",
            "Requirement already satisfied: langgraph-prebuilt>=0.2.0 in /usr/local/lib/python3.11/dist-packages (from langgraph) (0.2.1)\n",
            "Requirement already satisfied: langgraph-sdk>=0.1.42 in /usr/local/lib/python3.11/dist-packages (from langgraph) (0.1.70)\n",
            "Requirement already satisfied: pydantic>=2.7.4 in /usr/local/lib/python3.11/dist-packages (from langgraph) (2.11.4)\n",
            "Requirement already satisfied: xxhash>=3.5.0 in /usr/local/lib/python3.11/dist-packages (from langgraph) (3.5.0)\n",
            "Requirement already satisfied: langsmith<0.4,>=0.1.125 in /usr/local/lib/python3.11/dist-packages (from langchain-core>=0.1->langgraph) (0.3.42)\n",
            "Requirement already satisfied: tenacity!=8.4.0,<10.0.0,>=8.1.0 in /usr/local/lib/python3.11/dist-packages (from langchain-core>=0.1->langgraph) (9.1.2)\n",
            "Requirement already satisfied: jsonpatch<2.0,>=1.33 in /usr/local/lib/python3.11/dist-packages (from langchain-core>=0.1->langgraph) (1.33)\n",
            "Requirement already satisfied: PyYAML>=5.3 in /usr/local/lib/python3.11/dist-packages (from langchain-core>=0.1->langgraph) (6.0.2)\n",
            "Requirement already satisfied: packaging<25,>=23.2 in /usr/local/lib/python3.11/dist-packages (from langchain-core>=0.1->langgraph) (24.2)\n",
            "Requirement already satisfied: typing-extensions>=4.7 in /usr/local/lib/python3.11/dist-packages (from langchain-core>=0.1->langgraph) (4.13.2)\n",
            "Requirement already satisfied: ormsgpack<2.0.0,>=1.8.0 in /usr/local/lib/python3.11/dist-packages (from langgraph-checkpoint>=2.0.26->langgraph) (1.10.0)\n",
            "Requirement already satisfied: httpx>=0.25.2 in /usr/local/lib/python3.11/dist-packages (from langgraph-sdk>=0.1.42->langgraph) (0.28.1)\n",
            "Requirement already satisfied: orjson>=3.10.1 in /usr/local/lib/python3.11/dist-packages (from langgraph-sdk>=0.1.42->langgraph) (3.10.18)\n",
            "Requirement already satisfied: annotated-types>=0.6.0 in /usr/local/lib/python3.11/dist-packages (from pydantic>=2.7.4->langgraph) (0.7.0)\n",
            "Requirement already satisfied: pydantic-core==2.33.2 in /usr/local/lib/python3.11/dist-packages (from pydantic>=2.7.4->langgraph) (2.33.2)\n",
            "Requirement already satisfied: typing-inspection>=0.4.0 in /usr/local/lib/python3.11/dist-packages (from pydantic>=2.7.4->langgraph) (0.4.0)\n",
            "Requirement already satisfied: anyio in /usr/local/lib/python3.11/dist-packages (from httpx>=0.25.2->langgraph-sdk>=0.1.42->langgraph) (4.9.0)\n",
            "Requirement already satisfied: certifi in /usr/local/lib/python3.11/dist-packages (from httpx>=0.25.2->langgraph-sdk>=0.1.42->langgraph) (2025.4.26)\n",
            "Requirement already satisfied: httpcore==1.* in /usr/local/lib/python3.11/dist-packages (from httpx>=0.25.2->langgraph-sdk>=0.1.42->langgraph) (1.0.9)\n",
            "Requirement already satisfied: idna in /usr/local/lib/python3.11/dist-packages (from httpx>=0.25.2->langgraph-sdk>=0.1.42->langgraph) (3.10)\n",
            "Requirement already satisfied: h11>=0.16 in /usr/local/lib/python3.11/dist-packages (from httpcore==1.*->httpx>=0.25.2->langgraph-sdk>=0.1.42->langgraph) (0.16.0)\n",
            "Requirement already satisfied: jsonpointer>=1.9 in /usr/local/lib/python3.11/dist-packages (from jsonpatch<2.0,>=1.33->langchain-core>=0.1->langgraph) (3.0.0)\n",
            "Requirement already satisfied: requests<3,>=2 in /usr/local/lib/python3.11/dist-packages (from langsmith<0.4,>=0.1.125->langchain-core>=0.1->langgraph) (2.32.3)\n",
            "Requirement already satisfied: requests-toolbelt<2.0.0,>=1.0.0 in /usr/local/lib/python3.11/dist-packages (from langsmith<0.4,>=0.1.125->langchain-core>=0.1->langgraph) (1.0.0)\n",
            "Requirement already satisfied: zstandard<0.24.0,>=0.23.0 in /usr/local/lib/python3.11/dist-packages (from langsmith<0.4,>=0.1.125->langchain-core>=0.1->langgraph) (0.23.0)\n",
            "Requirement already satisfied: charset-normalizer<4,>=2 in /usr/local/lib/python3.11/dist-packages (from requests<3,>=2->langsmith<0.4,>=0.1.125->langchain-core>=0.1->langgraph) (3.4.2)\n",
            "Requirement already satisfied: urllib3<3,>=1.21.1 in /usr/local/lib/python3.11/dist-packages (from requests<3,>=2->langsmith<0.4,>=0.1.125->langchain-core>=0.1->langgraph) (2.4.0)\n",
            "Requirement already satisfied: sniffio>=1.1 in /usr/local/lib/python3.11/dist-packages (from anyio->httpx>=0.25.2->langgraph-sdk>=0.1.42->langgraph) (1.3.1)\n"
          ]
        }
      ]
    },
    {
      "cell_type": "code",
      "source": [
        "from langgraph.graph import StateGraph, END\n",
        "from langchain_core.runnables import RunnableLambda\n",
        "from typing import TypedDict\n",
        "\n",
        "class MemoryState(TypedDict):\n",
        "    User: list[str]\n",
        "    Bot: list[str]\n",
        "\n",
        "class GraphState(TypedDict):\n",
        "    input : str\n",
        "    output : str\n",
        "\n",
        "\n",
        "from getpass import getpass\n",
        "\n",
        "# Global configuration dict to store persistent data\n",
        "CONFIG = {\n",
        "    \"API_KEY\": None\n",
        "}\n",
        "\n",
        "def chatbot_node(state: GraphState) -> GraphState:\n",
        "    user_input = state[\"input\"]\n",
        "\n",
        "    if any(operator in user_input for operator in \"+-/*\"):\n",
        "        state[\"output\"] += calculator_tool(user_input)\n",
        "\n",
        "    elif any(word in user_input.lower() for word in [\"weather\", \"climate\", \"temperature\", \"humidity\", \"rainfall\", \"wind\", \"sunrise\", \"sunset\"]):\n",
        "        if CONFIG[\"API_KEY\"] is None:\n",
        "            CONFIG[\"API_KEY\"] = getpass(\"🔐 Enter your OpenWeatherMap API Key: \")\n",
        "        state[\"output\"] += get_weather.invoke({\n",
        "            \"input_text\": user_input,\n",
        "            \"API_KEY\": CONFIG[\"API_KEY\"]\n",
        "        })\n",
        "\n",
        "    elif any(word in user_input.lower() for word in [\"fashion\", \"trends\",\"trend\", \"clothing\", \"clothes\", \"wear\",\"trending\"]):\n",
        "        state[\"output\"] += fashion_tool(user_input)\n",
        "\n",
        "    else:\n",
        "        state[\"output\"] += \"Please ask something regarding calculating, weather, or fashion trends — one domain at a time.\"\n",
        "\n",
        "    return state\n"
      ],
      "metadata": {
        "id": "PIj3zUzXw-uh"
      },
      "execution_count": 39,
      "outputs": []
    },
    {
      "cell_type": "code",
      "source": [
        "Memory = {\n",
        "    \"User\" : [],\n",
        "    \"Bot\" : [],\n",
        "}\n",
        "print(\"Bot : You may ask something regardin Calculating or weather or fashion trends and at a time only one domain. Please enter exit if you want to end the conversation\")\n",
        "Memory[\"Bot\"].append(\"Bot : You may ask something regardin Calculating or weather or fashion trends and at a time only one domain. Please enter exit if you want to end the conversation\")\n",
        "while True:\n",
        "  user_input = input(\"User : \")\n",
        "  if user_input.lower() == \"exit\":\n",
        "    break\n",
        "  Memory[\"User\"].append(user_input)\n",
        "  graph = StateGraph(GraphState)\n",
        "  graph.add_node(\"chatbot\", RunnableLambda(chatbot_node))\n",
        "  graph.set_entry_point(\"chatbot\")\n",
        "  graph.set_finish_point(\"chatbot\")\n",
        "  executable_graph = graph.compile()\n",
        "  output = executable_graph.invoke({\"input\": user_input,\"output\":\"\"})\n",
        "  Memory[\"Bot\"].append(output[\"output\"])\n",
        "  print(\"Bot : \",output[\"output\"])\n"
      ],
      "metadata": {
        "colab": {
          "base_uri": "https://localhost:8080/"
        },
        "id": "AkJlKsR0OyEC",
        "outputId": "f4b19b31-a2d9-471f-b163-b94859740142"
      },
      "execution_count": 40,
      "outputs": [
        {
          "name": "stdout",
          "output_type": "stream",
          "text": [
            "Bot : You may ask something regardin Calculating or weather or fashion trends and at a time only one domain. Please enter exit if you want to end the conversation\n",
            "User : what is trending in India\n",
            "Bot :  1. Sharara sets\n",
            "2. Bandhani prints\n",
            "3. Indo-western fusion wear\n",
            "4. Kurtis with asymmetrical hemlines\n",
            "5.  Dhoti pants\n",
            "User : what is weather trend in singapore\n",
            "🔐 Enter your OpenWeatherMap API Key: ··········\n",
            "Bot :  🌤️ Weather in singapore:\n",
            "- Description: Broken clouds\n",
            "- Temperature: 26.9°C (Feels like: 30.26°C)\n",
            "- Humidity: 88%\n",
            "- Pressure: 1008 hPa\n",
            "- Wind Speed: 3.09 m/s\n",
            "- Cloud Cover: 75%\n",
            "- Visibility: 10000 meters\n",
            "- Sunrise: 22:56 UTC | Sunset: 11:07 UTC\n",
            "User : what is the value of 4*6 + 10\n",
            "Bot :  Following the order of operations (PEMDAS/BODMAS), we multiply before adding:\n",
            "\n",
            "4 * 6 = 24\n",
            "\n",
            "24 + 10 = 34\n",
            "\n",
            "Therefore, the value of 4 * 6 + 10 is $\\boxed{34}$.\n",
            "User : 1+2+3+4\n",
            "Bot :  The value of the expression is 10\n",
            "User : what is the weather in Thailand\n",
            "Bot :  🌤️ Weather in Thailand:\n",
            "- Description: Overcast clouds\n",
            "- Temperature: 25.75°C (Feels like: 26.76°C)\n",
            "- Humidity: 91%\n",
            "- Pressure: 1006 hPa\n",
            "- Wind Speed: 1.84 m/s\n",
            "- Cloud Cover: 99%\n",
            "- Visibility: 10000 meters\n",
            "- Sunrise: 22:49 UTC | Sunset: 11:44 UTC\n",
            "User : what is the weather of Tokyo\n",
            "Bot :  🌤️ Weather in Tokyo:\n",
            "- Description: Broken clouds\n",
            "- Temperature: 18.38°C (Feels like: 17.66°C)\n",
            "- Humidity: 53%\n",
            "- Pressure: 1014 hPa\n",
            "- Wind Speed: 5.66 m/s\n",
            "- Cloud Cover: 75%\n",
            "- Visibility: 10000 meters\n",
            "- Sunrise: 19:29 UTC | Sunset: 09:47 UTC\n",
            "User : Who are you?\n",
            "Bot :  Please ask something regarding calculating, weather, or fashion trends — one domain at a time.\n",
            "User : What is weather?\n",
            "Bot :  ⚠️ Could not fetch weather data for 'What is weather?'. Error: city not found\n",
            "User : What is trending?\n",
            "Bot :  No location found in input. Please specify a city or country.\n",
            "User : who made you?\n",
            "Bot :  Please ask something regarding calculating, weather, or fashion trends — one domain at a time.\n",
            "User : What is the humidity of Mumbai\n",
            "Bot :  🌤️ Weather in Mumbai:\n",
            "- Description: Thunderstorm\n",
            "- Temperature: 28.99°C (Feels like: 35.99°C)\n",
            "- Humidity: 89%\n",
            "- Pressure: 1003 hPa\n",
            "- Wind Speed: 0 m/s\n",
            "- Cloud Cover: 75%\n",
            "- Visibility: 2500 meters\n",
            "- Sunrise: 00:31 UTC | Sunset: 13:40 UTC\n",
            "User : exit\n"
          ]
        }
      ]
    },
    {
      "cell_type": "code",
      "source": [
        "\n",
        "from langchain_core.tools import tool\n",
        "import matplotlib.pyplot as plt\n",
        "import io\n",
        "\n",
        "@tool\n",
        "def data_plotter_tool(input_data: dict) -> bytes:\n",
        "    \"\"\"\n",
        "    Plot x and y data and return the image as raw PNG bytes.\n",
        "    \"\"\"\n",
        "    x = input_data.get(\"x\", [])\n",
        "    y = input_data.get(\"y\", [])\n",
        "\n",
        "    if not (isinstance(x, list) and isinstance(y, list)) or len(x) != len(y):\n",
        "        raise ValueError(\"Input data must have 'x' and 'y' lists of equal length\")\n",
        "\n",
        "    plt.figure(figsize=(6, 4))\n",
        "    plt.plot(x, y, marker='o')\n",
        "\n",
        "    plt.title(input_data.get(\"title\", \"Data Plot\"))\n",
        "    plt.xlabel(input_data.get(\"xlabel\", \"X-axis\"))\n",
        "    plt.ylabel(input_data.get(\"ylabel\", \"Y-axis\"))\n",
        "    plt.grid(True)\n",
        "\n",
        "    buf = io.BytesIO()\n",
        "    plt.savefig(buf, format='png')\n",
        "    plt.close()\n",
        "    buf.seek(0)\n",
        "    return buf.read()\n"
      ],
      "metadata": {
        "id": "2FX-0CdRPHPf"
      },
      "execution_count": 42,
      "outputs": []
    },
    {
      "cell_type": "code",
      "source": [
        "img_bytes = data_plotter_tool.invoke({\n",
        "    \"input_data\": {\n",
        "        \"x\": [0, 1, 2, 3],\n",
        "        \"y\": [0, 1, 4, 9],\n",
        "        \"title\": \"Example Plot\",\n",
        "        \"xlabel\": \"X\",\n",
        "        \"ylabel\": \"Y\"\n",
        "    }\n",
        "})\n",
        "\n",
        "from IPython.display import Image, display\n",
        "display(Image(data=img_bytes))\n"
      ],
      "metadata": {
        "colab": {
          "base_uri": "https://localhost:8080/",
          "height": 417
        },
        "id": "eWRaFjmQQXF3",
        "outputId": "8fd205af-d82e-46db-c457-525426eae7d1"
      },
      "execution_count": 43,
      "outputs": [
        {
          "output_type": "display_data",
          "data": {
            "image/png": "[encoded data removed]",
            "text/plain": [
              "<IPython.core.display.Image object>"
            ]
          },
          "metadata": {}
        }
      ]
    },
    {
      "cell_type": "markdown",
      "source": [
        "The above is a plotting tool."
      ],
      "metadata": {
        "id": "T61zyvBaQZ9p"
      }
    },
    {
      "cell_type": "code",
      "source": [
        "!pip install pint"
      ],
      "metadata": {
        "colab": {
          "base_uri": "https://localhost:8080/"
        },
        "id": "wmR_5KctUeDE",
        "outputId": "201db764-97e9-4ec2-d564-040146f9076b"
      },
      "execution_count": 33,
      "outputs": [
        {
          "output_type": "stream",
          "name": "stdout",
          "text": [
            "Collecting pint\n",
            "  Downloading Pint-0.24.4-py3-none-any.whl.metadata (8.5 kB)\n",
            "Requirement already satisfied: platformdirs>=2.1.0 in /usr/local/lib/python3.11/dist-packages (from pint) (4.3.8)\n",
            "Requirement already satisfied: typing-extensions>=4.0.0 in /usr/local/lib/python3.11/dist-packages (from pint) (4.13.2)\n",
            "Collecting flexcache>=0.3 (from pint)\n",
            "  Downloading flexcache-0.3-py3-none-any.whl.metadata (7.0 kB)\n",
            "Collecting flexparser>=0.4 (from pint)\n",
            "  Downloading flexparser-0.4-py3-none-any.whl.metadata (18 kB)\n",
            "Downloading Pint-0.24.4-py3-none-any.whl (302 kB)\n",
            "\u001b[2K   \u001b[90m━━━━━━━━━━━━━━━━━━━━━━━━━━━━━━━━━━━━━━━━\u001b[0m \u001b[32m302.0/302.0 kB\u001b[0m \u001b[31m5.7 MB/s\u001b[0m eta \u001b[36m0:00:00\u001b[0m\n",
            "\u001b[?25hDownloading flexcache-0.3-py3-none-any.whl (13 kB)\n",
            "Downloading flexparser-0.4-py3-none-any.whl (27 kB)\n",
            "Installing collected packages: flexparser, flexcache, pint\n",
            "Successfully installed flexcache-0.3 flexparser-0.4 pint-0.24.4\n"
          ]
        }
      ]
    },
    {
      "cell_type": "code",
      "source": [
        "from langchain_core.tools import tool\n",
        "from pint import UnitRegistry\n",
        "\n",
        "@tool\n",
        "def unit_converter_tool(input_data: dict) -> str:\n",
        "    \"\"\"\n",
        "    Converts a numerical value from one unit to another using the Pint library.\n",
        "\n",
        "    Supports various unit types including:\n",
        "    - Length (meters, feet, kilometers, miles, etc.)\n",
        "    - Speed (km/h, m/s, mph, etc.)\n",
        "    - Time (seconds, minutes, hours, days)\n",
        "    - Weight (grams, kilograms, pounds, etc.)\n",
        "    - Temperature (Celsius, Fahrenheit, Kelvin)\n",
        "\n",
        "    Input must be a dictionary with:\n",
        "    - \"value\": The numeric value to convert (e.g., 100)\n",
        "    - \"from_unit\": The unit of the input value (e.g., \"km/h\")\n",
        "    - \"to_unit\": The desired target unit (e.g., \"m/s\")\n",
        "\n",
        "    Example input:\n",
        "    {\n",
        "        \"value\": 72,\n",
        "        \"from_unit\": \"km/h\",\n",
        "        \"to_unit\": \"m/s\"\n",
        "    }\n",
        "\n",
        "    Returns:\n",
        "        A string describing the conversion result, e.g., \"72 km/h is equal to 20.0 m/s\"\n",
        "    \"\"\"\n",
        "    ureg = UnitRegistry()\n",
        "    value = input_data.get(\"value\")\n",
        "    from_unit = input_data.get(\"from_unit\")\n",
        "    to_unit = input_data.get(\"to_unit\")\n",
        "\n",
        "    if value is None or from_unit is None or to_unit is None:\n",
        "        return \"Missing input.\"\n",
        "\n",
        "    try:\n",
        "        quantity = value * ureg(from_unit)\n",
        "        result = quantity.to(to_unit)\n",
        "        return f\"{value} {from_unit} = {result:.4f~P}\"\n",
        "    except Exception as e:\n",
        "        return f\"Conversion error: {e}\"\n"
      ],
      "metadata": {
        "id": "wvsMC-TbQYuO"
      },
      "execution_count": 34,
      "outputs": []
    },
    {
      "cell_type": "code",
      "source": [
        "print(unit_converter_tool.invoke({\"input_data\": {\"value\": 100, \"from_unit\": \"km/h\", \"to_unit\": \"m/s\"}}))"
      ],
      "metadata": {
        "colab": {
          "base_uri": "https://localhost:8080/"
        },
        "id": "xgGfGbkpU5a5",
        "outputId": "eb2a9e7f-f804-4894-bd8d-01910f03c50a"
      },
      "execution_count": 35,
      "outputs": [
        {
          "output_type": "stream",
          "name": "stdout",
          "text": [
            "100 km/h = 27.7778 m/s\n"
          ]
        }
      ]
    },
    {
      "cell_type": "code",
      "source": [
        "print(unit_converter_tool.invoke({\"input_data\": {\"value\": 10, \"from_unit\": \"s\", \"to_unit\": \"hour\"}}))"
      ],
      "metadata": {
        "colab": {
          "base_uri": "https://localhost:8080/"
        },
        "id": "7H_McQKo8TF9",
        "outputId": "b18aad36-6fa7-455f-9471-2fae3031a33d"
      },
      "execution_count": 36,
      "outputs": [
        {
          "output_type": "stream",
          "name": "stdout",
          "text": [
            "10 s = 0.0028 h\n"
          ]
        }
      ]
    }
  ]
}